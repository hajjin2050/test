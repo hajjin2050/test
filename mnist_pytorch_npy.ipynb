{
  "nbformat": 4,
  "nbformat_minor": 0,
  "metadata": {
    "colab": {
      "name": "mnist_pytorch_npy.ipynb ",
      "provenance": [],
      "mount_file_id": "19fmEd2CLrCHD881EJju8CsalaOrhKZQL",
      "authorship_tag": "ABX9TyNg7E92/MiItXiS17Jm4bF5",
      "include_colab_link": true
    },
    "kernelspec": {
      "name": "python3",
      "display_name": "Python 3"
    }
  },
  "cells": [
    {
      "cell_type": "markdown",
      "metadata": {
        "id": "view-in-github",
        "colab_type": "text"
      },
      "source": [
        "<a href=\"https://colab.research.google.com/github/moonsh2050/test/blob/main/mnist_pytorch_npy.ipynb\" target=\"_parent\"><img src=\"https://colab.research.google.com/assets/colab-badge.svg\" alt=\"Open In Colab\"/></a>"
      ]
    },
    {
      "cell_type": "code",
      "metadata": {
        "colab": {
          "base_uri": "https://localhost:8080/",
          "height": 244
        },
        "id": "kW_9-osFWj8w",
        "outputId": "b44abb90-9b6f-46a8-d2cf-6a6fe413a1c3"
      },
      "source": [
        "\r\n",
        "import cv2\r\n",
        "import numpy as np\r\n",
        "from matplotlib import pyplot as plt\r\n",
        "\r\n",
        "for i in range(25767): #데이터가 너무 크다... 설내내 올리지도못함\r\n",
        "    image_path = f'/content/drive/MyDrive/vision2/clean_mnist/%05d.png'%i\r\n",
        "    image = cv2.imread(image_path, cv2.IMREAD_GRAYSCALE)\r\n",
        "    image2 = np.where((image <= 254) & (image != 0), 0, image)\r\n",
        "    image2 = cv2.dilate(image2, kernel=np.ones((2, 2), np.uint8), iterations=1)\r\n",
        "    image2 = cv2.medianBlur(src=image2, ksize= 5)\r\n",
        "    image2 = cv2.resize(image2, (128,128))\r\n",
        "    image2 = np.asarray(image2).reshape(128,128,1)\r\n",
        "    aaa.append(image2)\r\n",
        "\r\n",
        "aaa = np.array(aaa)/255.\r\n",
        "\r\n",
        "np.save('/content/drive/MyDrive/vision2/x_train_128.npy', arr = aaa)\r\n",
        "print(aaa.shape)\r\n",
        "\r\n",
        "  ######################################################################################\r\n",
        "# 테스트도 동일하게!\r\n",
        "\r\n",
        "aaa = []\r\n",
        "for i in range(50000,55000):\r\n",
        "    image_path = f'/content/drive/MyDrive/vision2/clean_test_mnist/{str(i).zfill(5)}.png'\r\n",
        "    image = cv2.imread(image_path, cv2.IMREAD_GRAYSCALE)\r\n",
        "    image2 = np.where((image <= 254) & (image != 0), 0, image)\r\n",
        "    image2 = cv2.dilate(image2, kernel=np.ones((2, 2), np.uint8), iterations=1)\r\n",
        "    image2 = cv2.medianBlur(src=image2, ksize= 5)\r\n",
        "    image2 = cv2.resize(image2, (128,128))\r\n",
        "    image2 = np.asarray(image2).reshape(128,128,1)\r\n",
        "    aaa.append(image2)\r\n",
        "\r\n",
        "aaa = np.array(aaa)/255.\r\n",
        "\r\n",
        "np.save('/content/drive/MyDrive/vision2/npy/x_test_128.npy', arr = aaa)\r\n",
        "print(aaa.shape)"
      ],
      "execution_count": 15,
      "outputs": [
        {
          "output_type": "error",
          "ename": "TypeError",
          "evalue": "ignored",
          "traceback": [
            "\u001b[0;31m---------------------------------------------------------------------------\u001b[0m",
            "\u001b[0;31mTypeError\u001b[0m                                 Traceback (most recent call last)",
            "\u001b[0;32m<ipython-input-15-2257c2caf524>\u001b[0m in \u001b[0;36m<module>\u001b[0;34m()\u001b[0m\n\u001b[1;32m      7\u001b[0m     \u001b[0mimage_path\u001b[0m \u001b[0;34m=\u001b[0m \u001b[0;34mf'/content/drive/MyDrive/vision2/clean_mnist/%05d.png'\u001b[0m\u001b[0;34m%\u001b[0m\u001b[0mi\u001b[0m\u001b[0;34m\u001b[0m\u001b[0;34m\u001b[0m\u001b[0m\n\u001b[1;32m      8\u001b[0m     \u001b[0mimage\u001b[0m \u001b[0;34m=\u001b[0m \u001b[0mcv2\u001b[0m\u001b[0;34m.\u001b[0m\u001b[0mimread\u001b[0m\u001b[0;34m(\u001b[0m\u001b[0mimage_path\u001b[0m\u001b[0;34m,\u001b[0m \u001b[0mcv2\u001b[0m\u001b[0;34m.\u001b[0m\u001b[0mIMREAD_GRAYSCALE\u001b[0m\u001b[0;34m)\u001b[0m\u001b[0;34m\u001b[0m\u001b[0;34m\u001b[0m\u001b[0m\n\u001b[0;32m----> 9\u001b[0;31m     \u001b[0mimage2\u001b[0m \u001b[0;34m=\u001b[0m \u001b[0mnp\u001b[0m\u001b[0;34m.\u001b[0m\u001b[0mwhere\u001b[0m\u001b[0;34m(\u001b[0m\u001b[0;34m(\u001b[0m\u001b[0mimage\u001b[0m \u001b[0;34m<=\u001b[0m \u001b[0;36m254\u001b[0m\u001b[0;34m)\u001b[0m \u001b[0;34m&\u001b[0m \u001b[0;34m(\u001b[0m\u001b[0mimage\u001b[0m \u001b[0;34m!=\u001b[0m \u001b[0;36m0\u001b[0m\u001b[0;34m)\u001b[0m\u001b[0;34m,\u001b[0m \u001b[0;36m0\u001b[0m\u001b[0;34m,\u001b[0m \u001b[0mimage\u001b[0m\u001b[0;34m)\u001b[0m\u001b[0;34m\u001b[0m\u001b[0;34m\u001b[0m\u001b[0m\n\u001b[0m\u001b[1;32m     10\u001b[0m     \u001b[0mimage2\u001b[0m \u001b[0;34m=\u001b[0m \u001b[0mcv2\u001b[0m\u001b[0;34m.\u001b[0m\u001b[0mdilate\u001b[0m\u001b[0;34m(\u001b[0m\u001b[0mimage2\u001b[0m\u001b[0;34m,\u001b[0m \u001b[0mkernel\u001b[0m\u001b[0;34m=\u001b[0m\u001b[0mnp\u001b[0m\u001b[0;34m.\u001b[0m\u001b[0mones\u001b[0m\u001b[0;34m(\u001b[0m\u001b[0;34m(\u001b[0m\u001b[0;36m2\u001b[0m\u001b[0;34m,\u001b[0m \u001b[0;36m2\u001b[0m\u001b[0;34m)\u001b[0m\u001b[0;34m,\u001b[0m \u001b[0mnp\u001b[0m\u001b[0;34m.\u001b[0m\u001b[0muint8\u001b[0m\u001b[0;34m)\u001b[0m\u001b[0;34m,\u001b[0m \u001b[0miterations\u001b[0m\u001b[0;34m=\u001b[0m\u001b[0;36m1\u001b[0m\u001b[0;34m)\u001b[0m\u001b[0;34m\u001b[0m\u001b[0;34m\u001b[0m\u001b[0m\n\u001b[1;32m     11\u001b[0m     \u001b[0mimage2\u001b[0m \u001b[0;34m=\u001b[0m \u001b[0mcv2\u001b[0m\u001b[0;34m.\u001b[0m\u001b[0mmedianBlur\u001b[0m\u001b[0;34m(\u001b[0m\u001b[0msrc\u001b[0m\u001b[0;34m=\u001b[0m\u001b[0mimage2\u001b[0m\u001b[0;34m,\u001b[0m \u001b[0mksize\u001b[0m\u001b[0;34m=\u001b[0m \u001b[0;36m5\u001b[0m\u001b[0;34m)\u001b[0m\u001b[0;34m\u001b[0m\u001b[0;34m\u001b[0m\u001b[0m\n",
            "\u001b[0;31mTypeError\u001b[0m: '<=' not supported between instances of 'NoneType' and 'int'"
          ]
        }
      ]
    },
    {
      "cell_type": "code",
      "metadata": {
        "id": "lzVWnwHr0fZQ"
      },
      "source": [
        ""
      ],
      "execution_count": null,
      "outputs": []
    },
    {
      "cell_type": "code",
      "metadata": {
        "id": "sZbkHBgmxfm5"
      },
      "source": [
        ""
      ],
      "execution_count": null,
      "outputs": []
    }
  ]
}